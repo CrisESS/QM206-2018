{
 "cells": [
  {
   "cell_type": "code",
   "execution_count": 1,
   "metadata": {},
   "outputs": [],
   "source": [
    "import numpy as np\n"
   ]
  },
  {
   "cell_type": "code",
   "execution_count": 61,
   "metadata": {},
   "outputs": [],
   "source": [
    "#funcion clase\n",
    "class estadistica:\n",
    "    def __init__(self,x):\n",
    "        self.x=x\n",
    "    def promedio(self): #a diferencia de los otros promedios añadimos self, correspondiente a las x\n",
    "        #primero se coloca self,x luego se corre y se elimina. \n",
    "        n=len(self.x)    #CUANTOS ELEMENTOS TIENE LA LISTA \n",
    "        promedio=sum(self.x)/n #promedio \n",
    "        return promedio\n",
    "    def varianza (self): #varianza \n",
    "        n=len(self.x)\n",
    "        sigma2=sum((x-promedio(self.x))*(x-promedio(self.x)))/(n-1)\n",
    "        return sigma2 \n",
    "    def minimo(self):  #minimo\n",
    "        minx=9E99\n",
    "        for a in self.x:\n",
    "            if a<minx:\n",
    "                minx=a\n",
    "        return minx \n",
    "    def maximo(self): #Maximo\n",
    "        max_x=-9E99 \n",
    "        for a in self.x:\n",
    "            if a>max_x:\n",
    "                max_x=a\n",
    "        return max_x"
   ]
  },
  {
   "cell_type": "code",
   "execution_count": 62,
   "metadata": {},
   "outputs": [],
   "source": [
    "def promedio(x):\n",
    "    n=len(x)    #CUANTOS ELEMENTOS TIENE LA LISTA \n",
    "    promedio=sum(x)/n\n",
    "    return promedio \n",
    "def varianza (x): #varianza \n",
    "    n=len(x)\n",
    "    sigma2=sum((x-promedio(x))*(x-promedio(x)))/(n-1)\n",
    "    return sigma2 "
   ]
  },
  {
   "cell_type": "code",
   "execution_count": 63,
   "metadata": {},
   "outputs": [
    {
     "data": {
      "text/plain": [
       "4.428571428571429"
      ]
     },
     "execution_count": 63,
     "metadata": {},
     "output_type": "execute_result"
    }
   ],
   "source": [
    "x=np.array([3,5,6,1,6,7,3]) #arreglos de valores \n",
    "promedio(x)"
   ]
  },
  {
   "cell_type": "code",
   "execution_count": 64,
   "metadata": {},
   "outputs": [
    {
     "data": {
      "text/plain": [
       "-0.04380366176785046"
      ]
     },
     "execution_count": 64,
     "metadata": {},
     "output_type": "execute_result"
    }
   ],
   "source": [
    "#arreglo de 100 valores \n",
    "x=np.random.randn(100)\n",
    "promedio(x)"
   ]
  },
  {
   "cell_type": "code",
   "execution_count": 65,
   "metadata": {},
   "outputs": [
    {
     "name": "stdout",
     "output_type": "stream",
     "text": [
      "promedio=0.11\n"
     ]
    }
   ],
   "source": [
    "x=np.random.randn(100)\n",
    "print(\"promedio=%3.2f\"%promedio(x))"
   ]
  },
  {
   "cell_type": "code",
   "execution_count": 66,
   "metadata": {},
   "outputs": [
    {
     "name": "stdout",
     "output_type": "stream",
     "text": [
      "promedio=0.0730\n"
     ]
    }
   ],
   "source": [
    "x=np.random.randn(100)\n",
    "print(\"promedio=%3.4f\"%promedio(x)) #Se puede regular los decimales "
   ]
  },
  {
   "cell_type": "code",
   "execution_count": 67,
   "metadata": {},
   "outputs": [],
   "source": [
    "def promedio(x):\n",
    "    n=len(x)    #CUANTOS ELEMENTOS TIENE LA LISTA \n",
    "    promedio=sum(x)/n #promedio \n",
    "    return promedio \n",
    "def varianza (x): #varianza \n",
    "    n=len(x)\n",
    "    sigma2=sum((x-promedio(x))*(x-promedio(x)))/(n-1)\n",
    "    return sigma2 "
   ]
  },
  {
   "cell_type": "code",
   "execution_count": 68,
   "metadata": {},
   "outputs": [
    {
     "name": "stdout",
     "output_type": "stream",
     "text": [
      "Varianza=1.2748\n",
      "promedio=0.0730\n"
     ]
    }
   ],
   "source": [
    "print(\"Varianza=%3.4f\"%varianza(x))  #valores \n",
    "print(\"promedio=%3.4f\"%promedio(x)) "
   ]
  },
  {
   "cell_type": "code",
   "execution_count": 69,
   "metadata": {},
   "outputs": [],
   "source": [
    "#valor mínimo de un grupo de datos \n",
    "def promedio(x):\n",
    "    n=len(x)    #CUANTOS ELEMENTOS TIENE LA LISTA \n",
    "    promedio=sum(x)/n #promedio \n",
    "    return promedio \n",
    "def varianza (x): #varianza \n",
    "    n=len(x)\n",
    "    sigma2=sum((x-promedio(x))*(x-promedio(x)))/(n-1)\n",
    "    return sigma2 \n",
    "def minimo(x):  #minimo\n",
    "    minx=9E99\n",
    "    for a in x:\n",
    "        if a<minx:\n",
    "            minx=a\n",
    "    return minx \n",
    "def maximo(x): #Maximo\n",
    "    max_x=-9E99 \n",
    "    for a in x:\n",
    "        if a>max_x:\n",
    "            max_x=a\n",
    "    return max_a"
   ]
  },
  {
   "cell_type": "code",
   "execution_count": 70,
   "metadata": {},
   "outputs": [
    {
     "data": {
      "text/plain": [
       "1"
      ]
     },
     "execution_count": 70,
     "metadata": {},
     "output_type": "execute_result"
    }
   ],
   "source": [
    "x=np.array([3,5,6,1,6,7,3]) #arreglos de valores/ volor mas pequeño del arreglo  minx\n",
    "minimo(x)\n"
   ]
  },
  {
   "cell_type": "code",
   "execution_count": 71,
   "metadata": {},
   "outputs": [],
   "source": [
    "#valor mínimo de un grupo de datos \n",
    "def promedio(x):\n",
    "    n=len(x)    #CUANTOS ELEMENTOS TIENE LA LISTA \n",
    "    promedio=sum(x)/n #promedio \n",
    "    return promedio \n",
    "def varianza (x): #varianza \n",
    "    n=len(x)\n",
    "    sigma2=sum((x-promedio(x))*(x-promedio(x)))/(n-1)\n",
    "    return sigma2 \n",
    "def minimo(x):  #minimo\n",
    "    minx=9E99\n",
    "    for a in x:\n",
    "        if a<minx:\n",
    "            minx=a\n",
    "    return minx \n",
    "def maximo(x): #Maximo\n",
    "    max_x=-9E99 \n",
    "    for a in x:\n",
    "        if a>max_x:\n",
    "            max_x=a\n",
    "    return max_x"
   ]
  },
  {
   "cell_type": "code",
   "execution_count": 72,
   "metadata": {},
   "outputs": [
    {
     "name": "stdout",
     "output_type": "stream",
     "text": [
      "Mínimo=1.0000\n",
      "Máximo=7.0000\n"
     ]
    }
   ],
   "source": [
    "x=np.array([3,5,6,1,6,7,3])  #valores de maximo y minimo\n",
    "print(\"Mínimo=%3.4f\"%minimo(x))\n",
    "print(\"Máximo=%3.4f\"%maximo(x))\n"
   ]
  },
  {
   "cell_type": "code",
   "execution_count": 73,
   "metadata": {},
   "outputs": [],
   "source": [
    "x=np.array([3,5,6,1,6,7,3]) #instanciar un objeto de la clase de estadistica\n",
    "st=estadistica(x)"
   ]
  },
  {
   "cell_type": "code",
   "execution_count": 74,
   "metadata": {},
   "outputs": [
    {
     "data": {
      "text/plain": [
       "4.428571428571429"
      ]
     },
     "execution_count": 74,
     "metadata": {},
     "output_type": "execute_result"
    }
   ],
   "source": [
    "st.promedio() #da error, y para quitarlo se va a eliminar la de (self,x) en promedio y rum rum rum etc...."
   ]
  },
  {
   "cell_type": "code",
   "execution_count": 76,
   "metadata": {},
   "outputs": [
    {
     "data": {
      "text/plain": [
       "4.6190476190476195"
      ]
     },
     "execution_count": 76,
     "metadata": {},
     "output_type": "execute_result"
    }
   ],
   "source": [
    "st.varianza() #volver a class y rum, rum, para minimo, varianza , maximo...etc.    "
   ]
  },
  {
   "cell_type": "code",
   "execution_count": 77,
   "metadata": {},
   "outputs": [
    {
     "data": {
      "text/plain": [
       "1"
      ]
     },
     "execution_count": 77,
     "metadata": {},
     "output_type": "execute_result"
    }
   ],
   "source": [
    "st.minimo()"
   ]
  },
  {
   "cell_type": "code",
   "execution_count": 78,
   "metadata": {},
   "outputs": [
    {
     "data": {
      "text/plain": [
       "7"
      ]
     },
     "execution_count": 78,
     "metadata": {},
     "output_type": "execute_result"
    }
   ],
   "source": [
    "st.maximo()"
   ]
  },
  {
   "cell_type": "code",
   "execution_count": null,
   "metadata": {},
   "outputs": [],
   "source": []
  }
 ],
 "metadata": {
  "kernelspec": {
   "display_name": "Python 3",
   "language": "python",
   "name": "python3"
  },
  "language_info": {
   "codemirror_mode": {
    "name": "ipython",
    "version": 3
   },
   "file_extension": ".py",
   "mimetype": "text/x-python",
   "name": "python",
   "nbconvert_exporter": "python",
   "pygments_lexer": "ipython3",
   "version": "3.6.5"
  }
 },
 "nbformat": 4,
 "nbformat_minor": 2
}
