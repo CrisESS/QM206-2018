{
 "cells": [
  {
   "cell_type": "code",
   "execution_count": 2,
   "metadata": {},
   "outputs": [],
   "source": [
    "import numpy as np\n",
    "import matplotlib.pyplot as plt"
   ]
  },
  {
   "cell_type": "code",
   "execution_count": 21,
   "metadata": {},
   "outputs": [],
   "source": [
    "## Para el agua gaseosa \n",
    "A=30.092\n",
    "B=6.832\n",
    "C=6.793\n",
    "D=-2.53448\n",
    "E=0.082139\n",
    "\n",
    "deltaH_298=-241.826 #kJ/mol\n",
    "deltaS_298=188.835  #J/mol\n",
    "\n",
    "dT=0.1\n",
    "T=np.arange(300,400,dT) #se esta generando una matriz con los datos (el T es la T en kelvin) #se cabio 1700 por 400\n",
    "t=T/1000\n",
    "Cp_H2O_gas=A+B*t+C*t**2+D*t**3+E/t**2  #(J/mol)\n",
    "deltaH_gas=np.cumsum(Cp_H2O_gas*dT)+deltaH_298*1000  #se utiliza para calcular H \n",
    "deltaS_gas=np.cumsum(Cp_H2O_gas/T*dT)+deltaS_298\n",
    "deltaG_gas=deltaH_gas-T*deltaS_gas"
   ]
  },
  {
   "cell_type": "code",
   "execution_count": 23,
   "metadata": {},
   "outputs": [],
   "source": [
    "##Para el agua liquida _H2O_gas\n",
    "A=-203.606\n",
    "B=1523.290\n",
    "C=-3196.413\n",
    "D=2474.455\n",
    "E=3.855\n",
    "\n",
    "deltaH_298=-285.830 #kJ/mol\n",
    "deltaS_298=69.95 #J/mol\n",
    "\n",
    "dT=0.1\n",
    "T=np.arange(300,400,dT) #se esta generando una matriz con los datos (el T es la T en kelvin)#se cabio 1700 por 400  \n",
    "                          #\"punto donde las lineas en las graficas se cruzan\"\n",
    "t=T/1000\n",
    "Cp_H2O_liq=A+B*t+C*t**2+D*t**3+E/t**2  #(J/mol)\n",
    "deltaH_liq=np.cumsum(Cp_H2O_liq*dT)+deltaH_298*1000  #se utiliza para calcular H \n",
    "deltaS_liq=np.cumsum(Cp_H2O_liq/T*dT)+deltaS_298\n",
    "deltaG_liq=deltaH_liq-T*deltaS_liq"
   ]
  },
  {
   "cell_type": "code",
   "execution_count": 24,
   "metadata": {},
   "outputs": [
    {
     "data": {
      "image/png": "[encoded data removed]",
      "text/plain": [
       "<Figure size 432x288 with 1 Axes>"
      ]
     },
     "metadata": {
      "needs_background": "light"
     },
     "output_type": "display_data"
    }
   ],
   "source": [
    "plt.plot(T,deltaG_gas)\n",
    "plt.plot(T, deltaG_liq)\n",
    "plt.show()\n",
    "#punto donde se cruzan, corresponde al punto de ebullición del agua en (373 K).\n",
    "# en ese punto G del gas es igual a la G del liquido: Ggas=Giq\n"
   ]
  },
  {
   "cell_type": "code",
   "execution_count": 31,
   "metadata": {
    "scrolled": true
   },
   "outputs": [
    {
     "data": {
      "text/plain": [
       "(array([730]),)"
      ]
     },
     "execution_count": 31,
     "metadata": {},
     "output_type": "execute_result"
    }
   ],
   "source": [
    "dp=(deltaG_gas-deltaG_liq)**2\n",
    "dp\n",
    " #minimo de la parabola\n",
    "#preguntamos donde dp es igual al minimo \n",
    "minimo=np.min(dp)\n",
    "np.where(dp==minimo)"
   ]
  },
  {
   "cell_type": "code",
   "execution_count": 32,
   "metadata": {},
   "outputs": [
    {
     "data": {
      "text/plain": [
       "373.0000000000166"
      ]
     },
     "execution_count": 32,
     "metadata": {},
     "output_type": "execute_result"
    }
   ],
   "source": [
    "T[730]"
   ]
  },
  {
   "cell_type": "markdown",
   "metadata": {},
   "source": [
    "# NO2 "
   ]
  },
  {
   "cell_type": "code",
   "execution_count": 34,
   "metadata": {},
   "outputs": [],
   "source": [
    "import requests"
   ]
  },
  {
   "cell_type": "code",
   "execution_count": 53,
   "metadata": {},
   "outputs": [
    {
     "name": "stdout",
     "output_type": "stream",
     "text": [
      "['100', '33.276', '202.563', '271.168', '-6.861', '34.898', '39.963', '-20.874']\n",
      "['200', '34.385', '225.852', '243.325', '-3.495', '33.897', '45.422', '-11.863']\n",
      "['250', '35.593', '233.649', '240.634', '-1.746', '33.460', '48.355', '-10.103']\n",
      "['298.15', '36.974', '240.034', '240.034', '0.', '33.095', '51.258', '-8.980']\n",
      "['300', '37.029', '240.262', '240.034', '0.068', '33.083', '51.371', '-8.944']\n",
      "['350', '38.583', '246.086', '240.491', '1.958', '32.768', '54.445', '-8.125']\n",
      "['400', '40.171', '251.342', '241.524', '3.927', '32.512', '57.560', '-7.517']\n",
      "['450', '41.728', '256.164', '242.886', '5.975', '32.310', '60.703', '-7.046']\n",
      "['500', '43.206', '260.638', '244.440', '8.099', '32.154', '63.867', '-6.672']\n",
      "['600', '45.834', '268.755', '247.830', '12.555', '31.959', '70.230', '-6.114']\n",
      "['700', '47.986', '275.988', '251.345', '17.250', '31.878', '76.616', '-5.717']\n",
      "['800', '49.708', '282.512', '254.840', '22.138', '31.874', '83.008', '-5.420']\n",
      "['900', '51.076', '288.449', '258.250', '27.179', '31.923', '89.397', '-5.188']\n",
      "['1000', '52.166', '293.889', '261.545', '32.344', '32.005', '95.779', '-5.003']\n",
      "['1100', '53.041', '298.903', '264.717', '37.605', '32.109', '102.152', '-4.851']\n",
      "['1200', '53.748', '303.550', '267.761', '42.946', '32.226', '108.514', '-4.724']\n",
      "['1300', '54.326', '307.876', '270.683', '48.351', '32.351', '114.867', '-4.615']\n",
      "['1400', '54.803', '311.920', '273.485', '53.808', '32.478', '121.209', '-4.522']\n",
      "['1500', '55.200', '315.715', '276.175', '59.309', '32.603', '127.543', '-4.441']\n",
      "['1600', '55.533', '319.288', '278.759', '64.846', '32.724', '133.868', '-4.370']\n",
      "['1700', '55.815', '322.663', '281.244', '70.414', '32.837', '140.186', '-4.307']\n",
      "['1800', '56.055', '325.861', '283.634', '76.007', '32.940', '146.497', '-4.251']\n",
      "['1900', '56.262', '328.897', '285.937', '81.624', '33.032', '152.804', '-4.201']\n",
      "['2000', '56.441', '331.788', '288.158', '87.259', '33.111', '159.106', '-4.155']\n",
      "['2100', '56.596', '334.545', '290.302', '92.911', '33.175', '165.404', '-4.114']\n",
      "['2200', '56.732', '337.181', '292.373', '98.577', '33.223', '171.700', '-4.077']\n",
      "['2300', '56.852', '339.706', '294.377', '104.257', '33.255', '177.993', '-4.042']\n",
      "['2400', '56.958', '342.128', '296.316', '109.947', '33.270', '184.285', '-4.011']\n",
      "['2500', '57.052', '344.455', '298.196', '115.648', '33.268', '190.577', '-3.982']\n",
      "['2600', '57.136', '346.694', '300.018', '121.357', '33.248', '196.870', '-3.955']\n",
      "['2700', '57.211', '348.852', '301.787', '127.075', '33.210', '203.164', '-3.930']\n",
      "['2800', '57.278', '350.934', '303.505', '132.799', '33.155', '209.460', '-3.908']\n",
      "['2900', '57.339', '352.945', '305.176', '138.530', '33.082', '215.757', '-3.886']\n",
      "['3000', '57.394', '354.889', '306.800', '144.267', '32.992', '222.058', '-3.866']\n",
      "['3100', '57.444', '356.772', '308.382', '150.009', '32.885', '228.363', '-3.848']\n",
      "['3200', '57.490', '358.597', '309.923', '155.756', '32.761', '234.670', '-3.831']\n",
      "['3300', '57.531', '360.366', '311.425', '161.507', '32.622', '240.981', '-3.814']\n",
      "['3400', '57.569', '362.084', '312.890', '167.262', '32.467', '247.298', '-3.799']\n",
      "['3500', '57.604', '363.754', '314.319', '173.020', '32.297', '253.618', '-3.785']\n",
      "['3600', '57.636', '365.377', '315.715', '178.783', '32.113', '259.945', '-3.772']\n",
      "['3700', '57.666', '366.957', '317.079', '184.548', '31.914', '266.276', '-3.759']\n",
      "['3800', '57.693', '368.495', '318.412', '190.316', '31.701', '272.613', '-3.747']\n",
      "['3900', '57.719', '369.994', '319.715', '196.086', '31.475', '278.956', '-3.736']\n",
      "['4000', '57.742', '371.455', '320.991', '201.859', '31.236', '285.305', '-3.726']\n",
      "['4100', '57.764', '372.881', '322.239', '207.635', '30.985', '291.659', '-3.716']\n",
      "['4200', '57.784', '374.274', '323.461', '213.412', '30.720', '298.020', '-3.706']\n",
      "['4300', '57.803', '375.634', '324.659', '219.191', '30.444', '304.388', '-3.698']\n",
      "['4400', '57.821', '376.963', '325.833', '224.973', '30.155', '310.762', '-3.689']\n",
      "['4500', '57.837', '378.262', '326.983', '230.756', '29.854', '317.142', '-3.681']\n",
      "['4600', '57.853', '379.534', '328.112', '236.540', '29.540', '323.530', '-3.674']\n",
      "['4700', '57.867', '380.778', '329.219', '242.326', '29.214', '329.925', '-3.667']\n",
      "['4800', '57.881', '381.996', '330.306', '248.114', '28.875', '336.326', '-3.660']\n",
      "['4900', '57.894', '383.190', '331.373', '253.902', '28.523', '342.736', '-3.654']\n",
      "['5000', '57.906', '384.360', '332.421', '259.692', '28.158', '349.152', '-3.648']\n",
      "['5100', '57.917', '385.507', '333.451', '265.483', '27.778', '355.576', '-3.642']\n",
      "['5200', '57.928', '386.631', '334.463', '271.276', '27.384', '362.006', '-3.636']\n",
      "['5300', '57.938', '387.735', '335.458', '277.069', '26.974', '368.446', '-3.631']\n",
      "['5400', '57.948', '388.818', '336.436', '282.863', '26.548', '374.892', '-3.626']\n",
      "['5500', '57.957', '389.881', '337.398', '288.658', '26.106', '381.347', '-3.622']\n",
      "['5600', '57.965', '390.926', '338.344', '294.455', '25.646', '387.811', '-3.617']\n",
      "['5700', '57.973', '391.952', '339.276', '300.251', '25.167', '394.281', '-3.613']\n",
      "['5800', '57.981', '392.960', '340.193', '306.049', '24.669', '400.762', '-3.609']\n",
      "['5900', '57.988', '393.951', '341.096', '311.848', '24.150', '407.249', '-3.606']\n",
      "['6000', '57.995', '394.926', '341.985', '317.647', '23.608', '413.748', '-3.602']\n"
     ]
    }
   ],
   "source": [
    "\n",
    "url=\"https://janaf.nist.gov/tables/N-007.txt\"\n",
    "file=requests.get(url)\n",
    "datos=file.text\n",
    "datos=datos.split(\"\\n\")[3:-1] #partimos los datos donde encontremos /n, luego los corchetes se utilizan para eliminar\n",
    "#las dos primeras linas aliminando el nombre.\n",
    "mat=[] #se utiliza mat para cambiar la tabla en numeros \n",
    "for x in datos:\n",
    "    s=x.split(\"\\t\")\n",
    "    print(s)\n",
    "    mat.append([float(a) for a in (s)]) #pasa de lista de cadena a punto flotante\n",
    "mat=np.array(mat)\n"
   ]
  },
  {
   "cell_type": "code",
   "execution_count": 54,
   "metadata": {},
   "outputs": [
    {
     "data": {
      "image/png": "[encoded data removed]",
      "text/plain": [
       "<Figure size 432x288 with 1 Axes>"
      ]
     },
     "metadata": {
      "needs_background": "light"
     },
     "output_type": "display_data"
    }
   ],
   "source": [
    "T=mat[:,0]\n",
    "Cp=mat[:,1]\n",
    "plt.plot(T,Cp)\n",
    "plt.show()"
   ]
  },
  {
   "cell_type": "markdown",
   "metadata": {},
   "source": [
    "## N2O4"
   ]
  },
  {
   "cell_type": "code",
   "execution_count": 55,
   "metadata": {},
   "outputs": [
    {
     "data": {
      "text/plain": [
       "array([ 16.10851352,  75.89539116, -54.3872296 ,  14.30775044,\n",
       "         0.23942371])"
      ]
     },
     "execution_count": 55,
     "metadata": {},
     "output_type": "execute_result"
    }
   ],
   "source": [
    "T=T[3:16] #columna por #de fila del valor que deseamos \n",
    "y=Cp[3:16]\n",
    "t=T/1000\n",
    "n=len(T)\n",
    "X=np.array([np.ones(n),t,t**2,t**3,1/t**2]).T #arreglo para x con traspuesta y arreglo de nymp\n",
    "beta=np.linalg.inv(X.T.dot(X)).dot(X.T.dot(y)) #x transpuesta por x\n",
    "beta\n"
   ]
  },
  {
   "cell_type": "code",
   "execution_count": 56,
   "metadata": {},
   "outputs": [],
   "source": [
    "Cp_calc=beta.dot(X.T)"
   ]
  },
  {
   "cell_type": "code",
   "execution_count": 59,
   "metadata": {},
   "outputs": [
    {
     "data": {
      "image/png": "[encoded data removed]",
      "text/plain": [
       "<Figure size 432x288 with 1 Axes>"
      ]
     },
     "metadata": {
      "needs_background": "light"
     },
     "output_type": "display_data"
    }
   ],
   "source": [
    "plt.scatter(T,y)\n",
    "plt.plot(T,Cp_calc,color=\"navy\")\n",
    "plt.xlabel(\"T(K)\")\n",
    "plt.ylabel(\"Cp(J/K-mol)\")\n",
    "plt.show()"
   ]
  },
  {
   "cell_type": "code",
   "execution_count": null,
   "metadata": {},
   "outputs": [],
   "source": []
  }
 ],
 "metadata": {
  "kernelspec": {
   "display_name": "Python 3",
   "language": "python",
   "name": "python3"
  },
  "language_info": {
   "codemirror_mode": {
    "name": "ipython",
    "version": 3
   },
   "file_extension": ".py",
   "mimetype": "text/x-python",
   "name": "python",
   "nbconvert_exporter": "python",
   "pygments_lexer": "ipython3",
   "version": "3.6.6"
  }
 },
 "nbformat": 4,
 "nbformat_minor": 2
}
